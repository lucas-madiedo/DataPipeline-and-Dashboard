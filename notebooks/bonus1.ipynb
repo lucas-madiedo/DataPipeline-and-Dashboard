{
 "cells": [
  {
   "cell_type": "code",
   "execution_count": 8,
   "metadata": {},
   "outputs": [],
   "source": [
    "import pandas as pd\n",
    "path = '../data/processed/db_poll_info_cleaned.csv'"
   ]
  },
  {
   "cell_type": "code",
   "execution_count": null,
   "metadata": {},
   "outputs": [],
   "source": [
    "df = pd.read_csv(path)\n",
    "df['arguments_for'].value_counts(dropna=False)"
   ]
  },
  {
   "cell_type": "code",
   "execution_count": 55,
   "metadata": {},
   "outputs": [],
   "source": [
    "def def_position(x):\n",
    "    if x == 'I would probably vote for it' or x == 'I would vote for it':\n",
    "        return 'In Favor'\n",
    "    elif x == 'I would not vote':\n",
    "        return 'Neutral'\n",
    "    else:\n",
    "        return 'Against'\n",
    "\n",
    "    \n",
    "df['Position'] = df['vote'].apply(lambda x : def_position(x))\n"
   ]
  },
  {
   "cell_type": "code",
   "execution_count": 56,
   "metadata": {},
   "outputs": [],
   "source": [
    "def count_arguments (x):\n",
    "    if x == 'None of the above':\n",
    "        return 0\n",
    "    else:\n",
    "        return (len(x.split(\"|\")))\n",
    "\n",
    "df['Number of Pro Arguments'] = df['arguments_for'].apply(lambda x : count_arguments(x))\n",
    "df['Number of Cons Arguments'] = df['arguments_against'].apply(lambda x : count_arguments(x))\n"
   ]
  },
  {
   "cell_type": "code",
   "execution_count": 74,
   "metadata": {},
   "outputs": [
    {
     "data": {
      "text/html": [
       "<div>\n",
       "<style scoped>\n",
       "    .dataframe tbody tr th:only-of-type {\n",
       "        vertical-align: middle;\n",
       "    }\n",
       "\n",
       "    .dataframe tbody tr th {\n",
       "        vertical-align: top;\n",
       "    }\n",
       "\n",
       "    .dataframe thead th {\n",
       "        text-align: right;\n",
       "    }\n",
       "</style>\n",
       "<table border=\"1\" class=\"dataframe\">\n",
       "  <thead>\n",
       "    <tr style=\"text-align: right;\">\n",
       "      <th></th>\n",
       "      <th>Position</th>\n",
       "      <th>Number of Pro Arguments</th>\n",
       "      <th>Number of Cons Arguments</th>\n",
       "    </tr>\n",
       "  </thead>\n",
       "  <tbody>\n",
       "    <tr>\n",
       "      <th>1</th>\n",
       "      <td>In Favor</td>\n",
       "      <td>11753</td>\n",
       "      <td>10928</td>\n",
       "    </tr>\n",
       "    <tr>\n",
       "      <th>0</th>\n",
       "      <td>Against</td>\n",
       "      <td>2195</td>\n",
       "      <td>6558</td>\n",
       "    </tr>\n",
       "  </tbody>\n",
       "</table>\n",
       "</div>"
      ],
      "text/plain": [
       "   Position  Number of Pro Arguments  Number of Cons Arguments\n",
       "1  In Favor                    11753                     10928\n",
       "0   Against                     2195                      6558"
      ]
     },
     "execution_count": 74,
     "metadata": {},
     "output_type": "execute_result"
    }
   ],
   "source": [
    "resumed_df = df[['Position','Number of Pro Arguments','Number of Cons Arguments']]\n",
    "resumed_df = resumed_df.groupby('Position').sum().reset_index().loc[[1,0]]\n",
    "resumed_df"
   ]
  }
 ],
 "metadata": {
  "kernelspec": {
   "display_name": "Python [conda env:ironhack_env]",
   "language": "python",
   "name": "conda-env-ironhack_env-py"
  },
  "language_info": {
   "codemirror_mode": {
    "name": "ipython",
    "version": 3
   },
   "file_extension": ".py",
   "mimetype": "text/x-python",
   "name": "python",
   "nbconvert_exporter": "python",
   "pygments_lexer": "ipython3",
   "version": "3.7.3"
  }
 },
 "nbformat": 4,
 "nbformat_minor": 4
}
